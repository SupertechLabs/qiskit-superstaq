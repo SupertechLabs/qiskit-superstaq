{
 "cells": [
  {
   "cell_type": "code",
   "execution_count": 8,
   "id": "f0e7742d",
   "metadata": {},
   "outputs": [],
   "source": [
    "import time\n",
    "import superstaq\n",
    "import qiskit\n",
    "import qiskit_superstaq as qss"
   ]
  },
  {
   "cell_type": "code",
   "execution_count": 9,
   "id": "f2f4d380",
   "metadata": {},
   "outputs": [
    {
     "data": {
      "text/plain": [
       "<AccountProvider for IBMQ(hub='ibm-q', group='open', project='main')>"
      ]
     },
     "execution_count": 9,
     "metadata": {},
     "output_type": "execute_result"
    }
   ],
   "source": [
    "pranav_token = \"13cc9cffafc18916ac8823265f7d11ce61fdcfb088bb27ee941c2479a66907138d5cdc9e27107ad3fd5e0c3ea2a2c40c53006dd279f799912cb6b94ef48599d4\"\n",
    "if qiskit.IBMQ.active_account():\n",
    "    qiskit.IBMQ.disable_account()\n",
    "\n",
    "# qiskit.IBMQ.load_account()\n",
    "qiskit.IBMQ.enable_account(pranav_token)"
   ]
  },
  {
   "cell_type": "code",
   "execution_count": 10,
   "id": "74ab9eb2",
   "metadata": {},
   "outputs": [
    {
     "name": "stdout",
     "output_type": "stream",
     "text": [
      "     ┌────────────────┐     ┌─┐\n",
      "q_0: ┤ U(1.1,2.2,3.3) ├──■──┤M├\n",
      "     └────────────────┘┌─┴─┐└╥┘\n",
      "q_1: ──────────────────┤ X ├─╫─\n",
      "                       └───┘ ║ \n",
      "c: 2/════════════════════════╩═\n",
      "                             0 \n"
     ]
    }
   ],
   "source": [
    "device = superstaq.request_converter.select_device({\"backend\": \"ibmq_qasm_simulator\"})\n",
    "\n",
    "circuit = qiskit.QuantumCircuit(2, 2)\n",
    "circuit.u(1.1, 2.2, 3.3, 0)\n",
    "circuit.cx(0, 1)\n",
    "circuit.measure(0, 0)\n",
    "\n",
    "print(circuit)"
   ]
  },
  {
   "cell_type": "code",
   "execution_count": 11,
   "id": "a00e36a0",
   "metadata": {},
   "outputs": [],
   "source": [
    "t0 = time.time()\n",
    "job = qiskit.execute([circuit], device.backend, shots=100, optimization_level=0)\n",
    "t1 = time.time()\n",
    "counts = job.result().get_counts()\n",
    "t2 = time.time()"
   ]
  },
  {
   "cell_type": "code",
   "execution_count": 12,
   "id": "80e5fa7b",
   "metadata": {},
   "outputs": [
    {
     "name": "stdout",
     "output_type": "stream",
     "text": [
      "counts: {'00': 70, '01': 30}\n",
      "total time: 68.13008618354797 (1.8383760452270508, 66.29171013832092)\n"
     ]
    }
   ],
   "source": [
    "print(\"counts:\", counts)\n",
    "print(f\"total time: {t2-t0} ({t1-t0}, {t2-t1})\")"
   ]
  },
  {
   "cell_type": "code",
   "execution_count": null,
   "id": "84acb4b8",
   "metadata": {},
   "outputs": [],
   "source": []
  }
 ],
 "metadata": {
  "kernelspec": {
   "display_name": "Python 3 (ipykernel)",
   "language": "python",
   "name": "python3"
  },
  "language_info": {
   "codemirror_mode": {
    "name": "ipython",
    "version": 3
   },
   "file_extension": ".py",
   "mimetype": "text/x-python",
   "name": "python",
   "nbconvert_exporter": "python",
   "pygments_lexer": "ipython3",
   "version": "3.8.10"
  }
 },
 "nbformat": 4,
 "nbformat_minor": 5
}
