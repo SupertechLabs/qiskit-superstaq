{
 "cells": [
  {
   "cell_type": "code",
   "execution_count": 17,
   "id": "4b36b4a1",
   "metadata": {},
   "outputs": [],
   "source": [
    "import qiskit\n",
    "import qiskit_superstaq as qss\n",
    "\n",
    "from applications_superstaq import ResourceEstimate\n",
    "from qiskit.circuit.random import random_circuit"
   ]
  },
  {
   "cell_type": "markdown",
   "id": "ccb91cb3",
   "metadata": {},
   "source": [
    "# Getting Resource Estimate Costs"
   ]
  },
  {
   "cell_type": "code",
   "execution_count": 18,
   "id": "d40dcb80",
   "metadata": {},
   "outputs": [],
   "source": [
    "# Connect to SuperstaQ\n",
    "superstaq = qss.superstaq_provider.SuperstaQProvider(\n",
    "    'YOUR API KEY',\n",
    "    remote_host=qss.API_URL,\n",
    ")"
   ]
  },
  {
   "cell_type": "markdown",
   "id": "3c0adcd4",
   "metadata": {},
   "source": [
    "# Resource Estimate for Simple Circuit"
   ]
  },
  {
   "cell_type": "code",
   "execution_count": 19,
   "id": "06d9507d",
   "metadata": {},
   "outputs": [
    {
     "data": {
      "text/html": [
       "<pre style=\"word-wrap: normal;white-space: pre;background: #fff0;line-height: 1.1;font-family: &quot;Courier New&quot;,Courier,monospace\">               \n",
       "q_0: ──■───────\n",
       "     ┌─┴─┐┌───┐\n",
       "q_1: ┤ X ├┤ H ├\n",
       "     └───┘└───┘</pre>"
      ],
      "text/plain": [
       "               \n",
       "q_0: ──■───────\n",
       "     ┌─┴─┐┌───┐\n",
       "q_1: ┤ X ├┤ H ├\n",
       "     └───┘└───┘"
      ]
     },
     "execution_count": 19,
     "metadata": {},
     "output_type": "execute_result"
    }
   ],
   "source": [
    "# Create simple circuit and submit to Neutral Atom Device\n",
    "circuit = qiskit.QuantumCircuit(2)\n",
    "circuit.cnot(0, 1)\n",
    "circuit.h(1)\n",
    "\n",
    "circuit.draw()"
   ]
  },
  {
   "cell_type": "code",
   "execution_count": 20,
   "id": "db0e2925",
   "metadata": {},
   "outputs": [
    {
     "name": "stdout",
     "output_type": "stream",
     "text": [
      "ResourceEstimate(num_single_qubit_gates=1, num_two_qubit_gates=1, depth=2)\n"
     ]
    }
   ],
   "source": [
    "resource_estimate = superstaq.resource_estimate(circuit, \"neutral_atom_qpu\")\n",
    "print(resource_estimate)"
   ]
  },
  {
   "cell_type": "markdown",
   "id": "c15d43ef",
   "metadata": {},
   "source": [
    "# Resource Estimate for More Complex Random Circuit"
   ]
  },
  {
   "cell_type": "code",
   "execution_count": 21,
   "id": "c0046139",
   "metadata": {},
   "outputs": [
    {
     "data": {
      "text/html": [
       "<pre style=\"word-wrap: normal;white-space: pre;background: #fff0;line-height: 1.1;font-family: &quot;Courier New&quot;,Courier,monospace\">                      ┌───┐                                      ┌─┐      \n",
       "q_0: ───────────────X─┤ X ├────────────────────X──■──────────────┤M├──────\n",
       "     ┌────────────┐ │ └─┬─┘┌────────────┐┌───┐ │  │              └╥┘┌─┐   \n",
       "q_1: ┤ Ry(5.0101) ├─┼───┼──┤ Ry(5.4424) ├┤ Y ├─┼──┼──■────────────╫─┤M├───\n",
       "     └───┬───┬────┘ │   │  └────────────┘└─┬─┘ │  │  │ZZ(4.8717)  ║ └╥┘┌─┐\n",
       "q_2: ────┤ I ├──────┼───■──────────────────┼───X──┼──■────────────╫──╫─┤M├\n",
       "         └───┘      │ ┌───┐                │      │      ┌─┐      ║  ║ └╥┘\n",
       "q_3: ───────────────X─┤ S ├────────────────■──────■──────┤M├──────╫──╫──╫─\n",
       "                      └───┘                              └╥┘      ║  ║  ║ \n",
       "c: 4/═════════════════════════════════════════════════════╩═══════╩══╩══╩═\n",
       "                                                          3       0  1  2 </pre>"
      ],
      "text/plain": [
       "                      ┌───┐                                      ┌─┐      \n",
       "q_0: ───────────────X─┤ X ├────────────────────X──■──────────────┤M├──────\n",
       "     ┌────────────┐ │ └─┬─┘┌────────────┐┌───┐ │  │              └╥┘┌─┐   \n",
       "q_1: ┤ Ry(5.0101) ├─┼───┼──┤ Ry(5.4424) ├┤ Y ├─┼──┼──■────────────╫─┤M├───\n",
       "     └───┬───┬────┘ │   │  └────────────┘└─┬─┘ │  │  │ZZ(4.8717)  ║ └╥┘┌─┐\n",
       "q_2: ────┤ I ├──────┼───■──────────────────┼───X──┼──■────────────╫──╫─┤M├\n",
       "         └───┘      │ ┌───┐                │      │      ┌─┐      ║  ║ └╥┘\n",
       "q_3: ───────────────X─┤ S ├────────────────■──────■──────┤M├──────╫──╫──╫─\n",
       "                      └───┘                              └╥┘      ║  ║  ║ \n",
       "c: 4/═════════════════════════════════════════════════════╩═══════╩══╩══╩═\n",
       "                                                          3       0  1  2 "
      ]
     },
     "execution_count": 21,
     "metadata": {},
     "output_type": "execute_result"
    }
   ],
   "source": [
    "# Create and submit random circuit to Neutral Atom Device\n",
    "circuit_random = random_circuit(4, 4, measure=True)\n",
    "circuit_random.draw()"
   ]
  },
  {
   "cell_type": "code",
   "execution_count": 22,
   "id": "9b28d07a",
   "metadata": {},
   "outputs": [
    {
     "name": "stdout",
     "output_type": "stream",
     "text": [
      "ResourceEstimate(num_single_qubit_gates=8, num_two_qubit_gates=6, depth=5)\n"
     ]
    }
   ],
   "source": [
    "resource_estimate = superstaq.resource_estimate(circuit_random, \"neutral_atom_qpu\")\n",
    "print(resource_estimate)"
   ]
  },
  {
   "cell_type": "markdown",
   "id": "246682db",
   "metadata": {},
   "source": [
    "# Example on Circuit Compiled on IBMQ Device"
   ]
  },
  {
   "cell_type": "code",
   "execution_count": 23,
   "id": "ada8b157",
   "metadata": {},
   "outputs": [
    {
     "data": {
      "text/html": [
       "<pre style=\"word-wrap: normal;white-space: pre;background: #fff0;line-height: 1.1;font-family: &quot;Courier New&quot;,Courier,monospace\">        \n",
       "q_0: ─X─\n",
       "      │ \n",
       "q_1: ─X─\n",
       "        </pre>"
      ],
      "text/plain": [
       "        \n",
       "q_0: ─X─\n",
       "      │ \n",
       "q_1: ─X─\n",
       "        "
      ]
     },
     "execution_count": 23,
     "metadata": {},
     "output_type": "execute_result"
    }
   ],
   "source": [
    "circuit2 = qiskit.QuantumCircuit(2)\n",
    "circuit2.swap(0, 1)\n",
    "circuit2.draw()"
   ]
  },
  {
   "cell_type": "code",
   "execution_count": 26,
   "id": "74764470",
   "metadata": {},
   "outputs": [
    {
     "name": "stdout",
     "output_type": "stream",
     "text": [
      "     ┌─────────┐┌───────────┐┌─────────┐ ┌─────────┐┌───────┐┌───────────┐»\n",
      "q_0: ┤ Rz(π/2) ├┤0          ├┤ Rz(π/2) ├─┤ Rx(π/2) ├┤ Rz(π) ├┤0          ├»\n",
      "     └─────────┘│  Acecr_mp │├─────────┴┐├─────────┤└───────┘│  Acecr_pm │»\n",
      "q_1: ───────────┤1          ├┤ Rz(3π/2) ├┤ Rx(π/2) ├─────────┤1          ├»\n",
      "                └───────────┘└──────────┘└─────────┘         └───────────┘»\n",
      "«     ┌──────────┐┌─────────┐┌───────┐┌───────────┐\n",
      "«q_0: ┤ Rz(3π/2) ├┤ Rx(π/2) ├┤ Rz(π) ├┤0          ├\n",
      "«     ├──────────┤└─────────┘└───────┘│  Acecr_pm │\n",
      "«q_1: ┤ Rz(3π/2) ├────────────────────┤1          ├\n",
      "«     └──────────┘                    └───────────┘\n"
     ]
    }
   ],
   "source": [
    "out = superstaq.ibmq_compile(circuit2, target=\"ibmq_jakarta_qpu\")\n",
    "print(out.circuit)"
   ]
  },
  {
   "cell_type": "code",
   "execution_count": 29,
   "id": "786bf2b3",
   "metadata": {},
   "outputs": [
    {
     "name": "stdout",
     "output_type": "stream",
     "text": [
      "ResourceEstimate(num_single_qubit_gates=10, num_two_qubit_gates=3, depth=10)\n"
     ]
    }
   ],
   "source": [
    "resource_estimate = superstaq.resource_estimate(circuit2, \"ibmq_jakarta_qpu\")\n",
    "print(resource_estimate)"
   ]
  },
  {
   "cell_type": "markdown",
   "id": "712cea74",
   "metadata": {},
   "source": [
    "# Multiple Circuit Example"
   ]
  },
  {
   "cell_type": "code",
   "execution_count": 34,
   "id": "1a904971",
   "metadata": {},
   "outputs": [
    {
     "name": "stdout",
     "output_type": "stream",
     "text": [
      "                   ┌─────────────┐┌─┐   \n",
      "q_0: ─■────────────┤ Rz(0.18388) ├┤M├───\n",
      "      │U1(0.91908) └──────┬──────┘└╥┘┌─┐\n",
      "q_1: ─■───────────────────■────────╫─┤M├\n",
      "                                   ║ └╥┘\n",
      "c: 2/══════════════════════════════╩══╩═\n",
      "                                   0  1 \n",
      "     ┌───┐                                        ┌─┐   \n",
      "q_0: ┤ T ├─────────────■────────────────■─────────┤M├───\n",
      "     └───┘┌────────────┴─────────────┐  │  ┌─────┐└╥┘┌─┐\n",
      "q_1: ──■──┤ U3(2.6067,5.5509,5.4419) ├──┼──┤ Tdg ├─╫─┤M├\n",
      "       │  └──────────┬───┬───────────┘┌─┴─┐└─┬─┬─┘ ║ └╥┘\n",
      "q_2: ──■─────────────┤ Y ├────────────┤ X ├──┤M├───╫──╫─\n",
      "                     └───┘            └───┘  └╥┘   ║  ║ \n",
      "c: 3/═════════════════════════════════════════╩════╩══╩═\n",
      "                                              2    0  1 \n",
      "                                                      ┌───┐     ┌─┐         \n",
      "q_0: ─X────────────────────────────■──────────────────┤ X ├──■──┤M├─────────\n",
      "      │        ┌─────┐       ┌───┐ │                  └─┬─┘  │  └╥┘┌─┐      \n",
      "q_1: ─┼────────┤ Tdg ├───────┤ H ├─┼────────────────────■────■───╫─┤M├──────\n",
      "      │ ┌──────┴─────┴──────┐└───┘ │U1(3.8838) ┌─────┐  │  ┌───┐ ║ └╥┘┌─┐   \n",
      "q_2: ─┼─┤ U2(2.7197,3.3587) ├──────■───────────┤ Tdg ├──┼──┤ Y ├─╫──╫─┤M├───\n",
      "      │ └───────┬───┬───────┘                  └─────┘  │  ├───┤ ║  ║ └╥┘┌─┐\n",
      "q_3: ─X─────────┤ Z ├───────────────────────────────────■──┤ H ├─╫──╫──╫─┤M├\n",
      "                └───┘                                      └───┘ ║  ║  ║ └╥┘\n",
      "c: 4/════════════════════════════════════════════════════════════╩══╩══╩══╩═\n",
      "                                                                 0  1  2  3 \n"
     ]
    }
   ],
   "source": [
    "# Create List of random circuits (3)\n",
    "circuits = [\n",
    "    random_circuit(2, 2, measure=True),\n",
    "    random_circuit(3, 3, measure=True),\n",
    "    random_circuit(4, 4, measure=True)\n",
    "]\n",
    "for c in circuits:\n",
    "    print(c)"
   ]
  },
  {
   "cell_type": "code",
   "execution_count": 36,
   "id": "2c5ce082",
   "metadata": {},
   "outputs": [
    {
     "name": "stdout",
     "output_type": "stream",
     "text": [
      "[ResourceEstimate(num_single_qubit_gates=2, num_two_qubit_gates=2, depth=3), ResourceEstimate(num_single_qubit_gates=7, num_two_qubit_gates=3, depth=5), ResourceEstimate(num_single_qubit_gates=11, num_two_qubit_gates=3, depth=5)]\n"
     ]
    }
   ],
   "source": [
    "resource_estimates = superstaq.resource_estimate(circuits, \"neutral_atom_qpu\")\n",
    "print(resource_estimates)"
   ]
  }
 ],
 "metadata": {
  "kernelspec": {
   "display_name": "Python 3 (ipykernel)",
   "language": "python",
   "name": "python3"
  },
  "language_info": {
   "codemirror_mode": {
    "name": "ipython",
    "version": 3
   },
   "file_extension": ".py",
   "mimetype": "text/x-python",
   "name": "python",
   "nbconvert_exporter": "python",
   "pygments_lexer": "ipython3",
   "version": "3.9.7"
  }
 },
 "nbformat": 4,
 "nbformat_minor": 5
}
